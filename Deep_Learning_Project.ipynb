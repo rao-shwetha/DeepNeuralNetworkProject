{
 "cells": [
  {
   "cell_type": "code",
   "execution_count": 41,
   "metadata": {
    "colab": {},
    "colab_type": "code",
    "id": "rycvc27rToFX"
   },
   "outputs": [],
   "source": [
    "from google.colab import drive"
   ]
  },
  {
   "cell_type": "code",
   "execution_count": 42,
   "metadata": {
    "colab": {
     "base_uri": "https://localhost:8080/",
     "height": 34
    },
    "colab_type": "code",
    "id": "7kmlHyKvTs4s",
    "outputId": "8662ede4-025e-4c3b-a2dc-c0e779c8f0b7"
   },
   "outputs": [
    {
     "name": "stdout",
     "output_type": "stream",
     "text": [
      "Drive already mounted at /content/drive; to attempt to forcibly remount, call drive.mount(\"/content/drive\", force_remount=True).\n"
     ]
    }
   ],
   "source": [
    "drive.mount('/content/drive')"
   ]
  },
  {
   "cell_type": "markdown",
   "metadata": {
    "colab_type": "text",
    "id": "4LU-lC8LUqUO"
   },
   "source": [
    "**Load Dataset from Drive:**"
   ]
  },
  {
   "cell_type": "code",
   "execution_count": 97,
   "metadata": {
    "colab": {
     "base_uri": "https://localhost:8080/",
     "height": 34
    },
    "colab_type": "code",
    "id": "R9Cu_BU9T0K3",
    "outputId": "91530526-78d1-4b1b-f19d-a308be073d23"
   },
   "outputs": [
    {
     "data": {
      "text/plain": [
       "<KeysViewHDF5 ['X_test', 'X_train', 'X_val', 'y_test', 'y_train', 'y_val']>"
      ]
     },
     "execution_count": 97,
     "metadata": {
      "tags": []
     },
     "output_type": "execute_result"
    }
   ],
   "source": [
    "import h5py\n",
    "\n",
    "h5f = h5py.File('/content/drive/My Drive/SVHN_single_grey1.h5', 'r') #opens the file as read only\n",
    "\n",
    "h5f.keys()\n",
    " "
   ]
  },
  {
   "cell_type": "code",
   "execution_count": 98,
   "metadata": {
    "colab": {},
    "colab_type": "code",
    "id": "aPk1an6NHJwg"
   },
   "outputs": [],
   "source": [
    "# Load the training, test set\n",
    "X_train = h5f['X_train'][:]\n",
    "y_train1 = h5f['y_train'][:]\n",
    "X_test = h5f['X_test'][:]\n",
    "y_test1 = h5f['y_test'][:]\n",
    "X_val = h5f['X_val'][:]\n",
    "y_val = h5f['y_val'][:]"
   ]
  },
  {
   "cell_type": "code",
   "execution_count": 99,
   "metadata": {
    "colab": {
     "base_uri": "https://localhost:8080/",
     "height": 118
    },
    "colab_type": "code",
    "id": "g6Gx4t32Hh9T",
    "outputId": "f88ecd8a-d76e-4438-a212-266061e7dd8d"
   },
   "outputs": [
    {
     "name": "stdout",
     "output_type": "stream",
     "text": [
      "Training data X Shape: (42000, 32, 32)\n",
      "Testing data X Shape: (18000, 32, 32)\n",
      "Training data y Shape: (42000,)\n",
      "Testing data y Shape: (18000,)\n",
      "Validation data X Shape: (60000, 32, 32)\n",
      "Validation data y Shape: (60000,)\n"
     ]
    }
   ],
   "source": [
    "\n",
    " #Print the shape of training, testing data\n",
    "print(\"Training data X Shape:\", X_train.shape)\n",
    "print(\"Testing data X Shape:\", X_test.shape)\n",
    "print(\"Training data y Shape:\", y_train1.shape)\n",
    "print(\"Testing data y Shape:\", y_test1.shape)\n",
    "print(\"Validation data X Shape:\", X_val.shape)\n",
    "print(\"Validation data y Shape:\", y_val.shape)"
   ]
  },
  {
   "cell_type": "markdown",
   "metadata": {
    "colab_type": "text",
    "id": "nUBSYWydUml1"
   },
   "source": [
    "**Understand the basic Image Classification pipeline and the data-driven\n",
    "approach (train/predict stages):**"
   ]
  },
  {
   "cell_type": "code",
   "execution_count": 80,
   "metadata": {
    "colab": {},
    "colab_type": "code",
    "id": "Bo87NXgnUhG3"
   },
   "outputs": [],
   "source": [
    "import numpy as np\n",
    "import keras\n",
    "from keras import losses\n",
    "from keras import optimizers\n",
    "from keras.layers import Dropout, MaxPooling2D\n",
    "from keras.layers import BatchNormalization\n",
    "from keras.datasets import mnist\n",
    "from keras.models import Sequential\n",
    "from keras.layers import Activation, Dense\n",
    "from keras.utils import np_utils"
   ]
  },
  {
   "cell_type": "code",
   "execution_count": 46,
   "metadata": {
    "colab": {},
    "colab_type": "code",
    "id": "kiA3F6klcIrT"
   },
   "outputs": [],
   "source": [
    "np.random.seed(30)"
   ]
  },
  {
   "cell_type": "code",
   "execution_count": 47,
   "metadata": {
    "colab": {},
    "colab_type": "code",
    "id": "Ski2VDL3ceRy"
   },
   "outputs": [],
   "source": [
    "import matplotlib.pyplot as plt"
   ]
  },
  {
   "cell_type": "code",
   "execution_count": 58,
   "metadata": {
    "colab": {
     "base_uri": "https://localhost:8080/",
     "height": 283
    },
    "colab_type": "code",
    "id": "VCrd1ST1KD-1",
    "outputId": "a1fa2feb-31d7-4820-9a53-02f707bdbef1"
   },
   "outputs": [
    {
     "data": {
      "image/png": "[encoded data removed]",
      "text/plain": [
       "<Figure size 432x288 with 1 Axes>"
      ]
     },
     "metadata": {
      "needs_background": "light",
      "tags": []
     },
     "output_type": "display_data"
    },
    {
     "name": "stdout",
     "output_type": "stream",
     "text": [
      "Label:  2\n"
     ]
    }
   ],
   "source": [
    "#display the number in the dataset\n",
    "plt.imshow(X_train[0],cmap='gray')    \n",
    "plt.show()\n",
    "print('Label: ', y_train1[0])"
   ]
  },
  {
   "cell_type": "code",
   "execution_count": 59,
   "metadata": {
    "colab": {
     "base_uri": "https://localhost:8080/",
     "height": 283
    },
    "colab_type": "code",
    "id": "TnC1wxmCJvVJ",
    "outputId": "db04fb82-e93f-4733-95fc-b0c70fd14800"
   },
   "outputs": [
    {
     "data": {
      "image/png": "[encoded data removed]",
      "text/plain": [
       "<Figure size 432x288 with 1 Axes>"
      ]
     },
     "metadata": {
      "needs_background": "light",
      "tags": []
     },
     "output_type": "display_data"
    },
    {
     "name": "stdout",
     "output_type": "stream",
     "text": [
      "Label:  2\n"
     ]
    }
   ],
   "source": [
    "#display the number in the dataset\n",
    "plt.imshow(X_test[2],cmap='gray')    \n",
    "plt.show()\n",
    "print('Label: ', y_test1[2])"
   ]
  },
  {
   "cell_type": "code",
   "execution_count": 57,
   "metadata": {
    "colab": {
     "base_uri": "https://localhost:8080/",
     "height": 95
    },
    "colab_type": "code",
    "id": "zH59F7N-cM4S",
    "outputId": "06692cce-016c-4b2f-8717-20a632d392ce"
   },
   "outputs": [
    {
     "data": {
      "image/png": "[encoded data removed]",
      "text/plain": [
       "<Figure size 720x72 with 10 Axes>"
      ]
     },
     "metadata": {
      "needs_background": "light",
      "tags": []
     },
     "output_type": "display_data"
    },
    {
     "name": "stdout",
     "output_type": "stream",
     "text": [
      "label for each of the above image: [2 6 7 4 4 0 3 0 7 3]\n"
     ]
    }
   ],
   "source": [
    "plt.figure(figsize=(10, 1))\n",
    "for i in range(10):\n",
    "    plt.subplot(1, 10, i+1)\n",
    "    plt.imshow(X_train[i], cmap=\"gray\")\n",
    "    plt.axis('off')\n",
    "plt.show()\n",
    "print('label for each of the above image: %s' % (y_train1[0:10]))"
   ]
  },
  {
   "cell_type": "markdown",
   "metadata": {
    "colab_type": "text",
    "id": "AZzW_dkid__A"
   },
   "source": [
    "**Data fetching and understand the train/val/test splits:**"
   ]
  },
  {
   "cell_type": "code",
   "execution_count": 100,
   "metadata": {
    "colab": {
     "base_uri": "https://localhost:8080/",
     "height": 67
    },
    "colab_type": "code",
    "id": "lbmskPkkcYJs",
    "outputId": "ac468ef4-40f8-4016-cc0d-bdfa414ad4b2"
   },
   "outputs": [
    {
     "name": "stdout",
     "output_type": "stream",
     "text": [
      "Training set: (42000, 1024) (42000,)\n",
      "Test set: (18000, 1024) (18000,)\n",
      "Validation Set: (60000, 1024) (60000,)\n"
     ]
    }
   ],
   "source": [
    "X_test = X_test.reshape(X_test.shape[0], 1024) #Reshape data from 2D to 1D i.e 32X32 to 1024\n",
    "X_train = X_train.reshape(X_train.shape[0], 1024)\n",
    "X_val=X_val.reshape(X_val.shape[0], 1024)\n",
    "X_train = X_train / 255.0\n",
    "X_test = X_test / 255.0\n",
    "X_val = X_val / 255.0\n",
    "\n",
    "print('Training set:', X_train.shape, y_train1.shape)\n",
    "print('Test set:', X_test.shape, y_test1.shape)\n",
    "print('Validation Set:',X_val.shape, y_val.shape)"
   ]
  },
  {
   "cell_type": "code",
   "execution_count": 101,
   "metadata": {
    "colab": {
     "base_uri": "https://localhost:8080/",
     "height": 34
    },
    "colab_type": "code",
    "id": "wYcZABROcwFu",
    "outputId": "2d2315e3-8e9c-4dd7-e18e-11a0fc77bf4c"
   },
   "outputs": [
    {
     "name": "stdout",
     "output_type": "stream",
     "text": [
      "Number of classes: 10\n"
     ]
    }
   ],
   "source": [
    "y_train = np_utils.to_categorical(y_train1)\n",
    "y_test = np_utils.to_categorical(y_test1)\n",
    "y_val = np_utils.to_categorical(y_val)\n",
    "\n",
    "# Getting no of classes\n",
    "num_classes = y_test.shape[1]\n",
    "num_hidden = 32\n",
    "print('Number of classes:', num_classes)"
   ]
  },
  {
   "cell_type": "code",
   "execution_count": null,
   "metadata": {
    "colab": {},
    "colab_type": "code",
    "id": "l2QOm4wgdQ3i"
   },
   "outputs": [],
   "source": [
    "x_tr = []\n",
    "for i in range(42000):\n",
    "    x_tr.append(X_train[i,:].flatten())\n",
    "x_te = []\n",
    "for i in range(18000):\n",
    "    x_te.append(X_test[i,:].flatten())"
   ]
  },
  {
   "cell_type": "code",
   "execution_count": null,
   "metadata": {
    "colab": {},
    "colab_type": "code",
    "id": "4tRz2v-ldX0w"
   },
   "outputs": [],
   "source": [
    "x_tr = x_tr[:2000]\n",
    "x_te = x_te[:2000]\n",
    "y_tr = y_train1[0:2000]\n",
    "y_te = y_test1[0:2000]"
   ]
  },
  {
   "cell_type": "code",
   "execution_count": null,
   "metadata": {
    "colab": {
     "base_uri": "https://localhost:8080/",
     "height": 84
    },
    "colab_type": "code",
    "id": "IbmeUlLfdaMX",
    "outputId": "c7fe02cb-eb54-400b-d1fd-dbcf4d91c857"
   },
   "outputs": [
    {
     "name": "stdout",
     "output_type": "stream",
     "text": [
      "2000\n",
      "2000\n",
      "2000\n",
      "2000\n"
     ]
    }
   ],
   "source": [
    "print(len(x_tr))\n",
    "print(len(y_tr))\n",
    "print(len(x_te))\n",
    "print(len(y_te))"
   ]
  },
  {
   "cell_type": "markdown",
   "metadata": {
    "colab_type": "text",
    "id": "LtkYspnjePj7"
   },
   "source": [
    "Applying KNN for the prediction:"
   ]
  },
  {
   "cell_type": "code",
   "execution_count": 62,
   "metadata": {
    "colab": {},
    "colab_type": "code",
    "id": "r_3ND6yXebLt"
   },
   "outputs": [],
   "source": [
    "from sklearn.neighbors import KNeighborsClassifier\n",
    "from sklearn.metrics import accuracy_score\n",
    "from sklearn.metrics import confusion_matrix\n",
    "from sklearn.metrics import classification_report"
   ]
  },
  {
   "cell_type": "code",
   "execution_count": null,
   "metadata": {
    "colab": {},
    "colab_type": "code",
    "id": "NgQSiEOJejcu"
   },
   "outputs": [],
   "source": [
    "a =[]\n",
    "j = []"
   ]
  },
  {
   "cell_type": "code",
   "execution_count": null,
   "metadata": {
    "colab": {},
    "colab_type": "code",
    "id": "TBoPsMptemJO"
   },
   "outputs": [],
   "source": [
    "def knnvalue(k):\n",
    "    NNH = KNeighborsClassifier(n_neighbors= k , weights = 'uniform', metric='euclidean')\n",
    "    NNH.fit(x_tr, y_tr)\n",
    "    predicted_labels = NNH.predict(x_te)\n",
    "    ascore = accuracy_score(y_te, predicted_labels)\n",
    "    MSE = 1-ascore\n",
    "    a.append(MSE)\n",
    "    j.append(k)\n",
    "    print(ascore)"
   ]
  },
  {
   "cell_type": "code",
   "execution_count": 60,
   "metadata": {
    "colab": {
     "base_uri": "https://localhost:8080/",
     "height": 286
    },
    "colab_type": "code",
    "id": "rO0EwgUKeten",
    "outputId": "ec374daa-5177-4c5b-9139-14b86ba5413c"
   },
   "outputs": [
    {
     "name": "stdout",
     "output_type": "stream",
     "text": [
      "Accuracy Scores:\n",
      "0.2975\n",
      "0.292\n",
      "0.3015\n",
      "0.307\n",
      "0.3055\n",
      "0.311\n",
      "0.2975\n",
      "0.294\n",
      "0.2975\n",
      "0.2935\n",
      "0.2945\n",
      "0.2955\n",
      "0.2865\n",
      "0.2805\n",
      "0.279\n"
     ]
    }
   ],
   "source": [
    "print(\"Accuracy Scores:\")\n",
    "for i in range(1,30,2):\n",
    "    knnvalue(i)"
   ]
  },
  {
   "cell_type": "code",
   "execution_count": 107,
   "metadata": {
    "colab": {
     "base_uri": "https://localhost:8080/",
     "height": 34
    },
    "colab_type": "code",
    "id": "4Ku1LGvwe0Tp",
    "outputId": "f0c6d62d-681d-4b9d-b631-5073248f94d6"
   },
   "outputs": [
    {
     "data": {
      "text/plain": [
       "0"
      ]
     },
     "execution_count": 107,
     "metadata": {
      "tags": []
     },
     "output_type": "execute_result"
    }
   ],
   "source": [
    "NNH = KNeighborsClassifier(n_neighbors= 11 , weights = 'uniform', metric='euclidean')\n",
    "NNH.fit(x_tr, y_tr)\n",
    "pred=NNH.predict(x_te)\n",
    "pred[1]"
   ]
  },
  {
   "cell_type": "code",
   "execution_count": 108,
   "metadata": {
    "colab": {
     "base_uri": "https://localhost:8080/",
     "height": 34
    },
    "colab_type": "code",
    "id": "N2sAhngZfbmS",
    "outputId": "537c9556-050b-40ce-9e20-e09a4264f3e5"
   },
   "outputs": [
    {
     "data": {
      "text/plain": [
       "7"
      ]
     },
     "execution_count": 108,
     "metadata": {
      "tags": []
     },
     "output_type": "execute_result"
    }
   ],
   "source": [
    "y_test1[1]"
   ]
  },
  {
   "cell_type": "markdown",
   "metadata": {
    "colab_type": "text",
    "id": "q8iRwl5xpJA5"
   },
   "source": [
    "Prediction does not match"
   ]
  },
  {
   "cell_type": "code",
   "execution_count": null,
   "metadata": {
    "colab": {
     "base_uri": "https://localhost:8080/",
     "height": 185
    },
    "colab_type": "code",
    "id": "vl7qFcnxfe0g",
    "outputId": "2898bf40-4256-4b76-89ef-76e3d9a1901a"
   },
   "outputs": [
    {
     "data": {
      "text/plain": [
       "array([[105,  15,  16,  25,  17,  34,  35,  11,  50,  55],\n",
       "       [ 17, 101,  29,  33,  32,  30,  22,  25,  19,  17],\n",
       "       [ 14,  14,  73,  23,  18,  22,  21,  49,  20,  23],\n",
       "       [ 10,  10,  14,  36,   9,  15,  22,  23,  16,   9],\n",
       "       [ 12,  17,  11,  10,  93,  15,  17,  13,  17,  14],\n",
       "       [ 10,   6,   5,  24,   6,  43,  11,   3,  10,  14],\n",
       "       [ 25,   9,   8,  11,  10,  21,  51,  10,  29,  16],\n",
       "       [  4,   8,  16,  12,   7,   4,   5,  65,   1,  10],\n",
       "       [  7,   2,   3,   4,   2,  11,   4,   0,  19,   8],\n",
       "       [ 17,   3,  12,   7,  10,  16,  14,   6,  17,  36]])"
      ]
     },
     "execution_count": 22,
     "metadata": {
      "tags": []
     },
     "output_type": "execute_result"
    }
   ],
   "source": [
    "confusion_matrix(pred,y_te) \n"
   ]
  },
  {
   "cell_type": "code",
   "execution_count": 64,
   "metadata": {
    "colab": {
     "base_uri": "https://localhost:8080/",
     "height": 302
    },
    "colab_type": "code",
    "id": "RgMEpjosNCcZ",
    "outputId": "ce3089f1-b603-437a-f036-2e6dc37b8b8b"
   },
   "outputs": [
    {
     "name": "stdout",
     "output_type": "stream",
     "text": [
      "              precision    recall  f1-score   support\n",
      "\n",
      "           0       0.48      0.29      0.36       363\n",
      "           1       0.55      0.31      0.40       325\n",
      "           2       0.39      0.26      0.31       277\n",
      "           3       0.19      0.22      0.21       164\n",
      "           4       0.46      0.42      0.44       219\n",
      "           5       0.20      0.33      0.25       132\n",
      "           6       0.25      0.27      0.26       190\n",
      "           7       0.32      0.49      0.39       132\n",
      "           8       0.10      0.32      0.15        60\n",
      "           9       0.18      0.26      0.21       138\n",
      "\n",
      "    accuracy                           0.31      2000\n",
      "   macro avg       0.31      0.32      0.30      2000\n",
      "weighted avg       0.37      0.31      0.32      2000\n",
      "\n"
     ]
    }
   ],
   "source": [
    "print(classification_report(pred,y_te)) #to get an idea of the accuracy metrics while using KNN"
   ]
  },
  {
   "cell_type": "markdown",
   "metadata": {
    "colab_type": "text",
    "id": "aB1Cv4iBoR_a"
   },
   "source": [
    "Inference: Here F1 score is pretty low when only KNN is applied"
   ]
  },
  {
   "cell_type": "markdown",
   "metadata": {
    "colab_type": "text",
    "id": "o4raUMzAoz7d"
   },
   "source": [
    "**Implement and apply a deep neural network classifier including\n",
    "(feedforward neural network, RELU, activations):**"
   ]
  },
  {
   "cell_type": "code",
   "execution_count": 110,
   "metadata": {
    "colab": {},
    "colab_type": "code",
    "id": "3HL64Hv-jsUm"
   },
   "outputs": [],
   "source": [
    "##Initialize the Artificial Neural Network Classifier\n",
    "km = Sequential()"
   ]
  },
  {
   "cell_type": "code",
   "execution_count": 111,
   "metadata": {
    "colab": {},
    "colab_type": "code",
    "id": "HES2hpE9jxWt"
   },
   "outputs": [],
   "source": [
    "# Input Layer\n",
    "km.add(Dense(512, kernel_initializer='he_normal',input_shape = (1024, )))\n",
    "#Adding Relu Activation function\n",
    "km.add(Activation('relu'))\n",
    "\n",
    "#1st Hidden Layer with Relu activation\n",
    "km.add(Dense(256, kernel_initializer='he_normal'))\n",
    "km.add(Activation('relu'))\n",
    "\n",
    "#2nd Hidden Layer with Relu activation\n",
    "km.add(Dense(128, kernel_initializer='he_normal'))\n",
    "km.add(Activation('relu'))\n",
    "\n",
    "#3rd Hidden Layer with Relu activation\n",
    "km.add(Dense(64, kernel_initializer='he_normal'))\n",
    "km.add(Activation('relu'))\n",
    "\n",
    "#4th Hidden Layer with Relu activation\n",
    "km.add(Dense(32, kernel_initializer='he_normal'))\n",
    "km.add(Activation('relu'))\n",
    "\n",
    "# Output Layer with Relu activation\n",
    "#Adding output layer which is of 10 digits\n",
    "km.add(Dense(10))\n",
    "km.add(Activation('softmax')) # Here, using softmax function because it is multiclass classsification"
   ]
  },
  {
   "cell_type": "code",
   "execution_count": 112,
   "metadata": {
    "colab": {
     "base_uri": "https://localhost:8080/",
     "height": 554
    },
    "colab_type": "code",
    "id": "PSJSfcEgplzb",
    "outputId": "bcaf1070-68ee-41a8-ec96-e9bc093ff22f"
   },
   "outputs": [
    {
     "name": "stdout",
     "output_type": "stream",
     "text": [
      "Model: \"sequential_8\"\n",
      "_________________________________________________________________\n",
      "Layer (type)                 Output Shape              Param #   \n",
      "=================================================================\n",
      "dense_40 (Dense)             (None, 512)               524800    \n",
      "_________________________________________________________________\n",
      "activation_19 (Activation)   (None, 512)               0         \n",
      "_________________________________________________________________\n",
      "dense_41 (Dense)             (None, 256)               131328    \n",
      "_________________________________________________________________\n",
      "activation_20 (Activation)   (None, 256)               0         \n",
      "_________________________________________________________________\n",
      "dense_42 (Dense)             (None, 128)               32896     \n",
      "_________________________________________________________________\n",
      "activation_21 (Activation)   (None, 128)               0         \n",
      "_________________________________________________________________\n",
      "dense_43 (Dense)             (None, 64)                8256      \n",
      "_________________________________________________________________\n",
      "activation_22 (Activation)   (None, 64)                0         \n",
      "_________________________________________________________________\n",
      "dense_44 (Dense)             (None, 32)                2080      \n",
      "_________________________________________________________________\n",
      "activation_23 (Activation)   (None, 32)                0         \n",
      "_________________________________________________________________\n",
      "dense_45 (Dense)             (None, 10)                330       \n",
      "_________________________________________________________________\n",
      "activation_24 (Activation)   (None, 10)                0         \n",
      "=================================================================\n",
      "Total params: 699,690\n",
      "Trainable params: 699,690\n",
      "Non-trainable params: 0\n",
      "_________________________________________________________________\n"
     ]
    }
   ],
   "source": [
    "km.summary()"
   ]
  },
  {
   "cell_type": "code",
   "execution_count": 106,
   "metadata": {
    "colab": {
     "base_uri": "https://localhost:8080/",
     "height": 1000
    },
    "colab_type": "code",
    "id": "Q1I3pwN6jmfJ",
    "outputId": "1cd3e48a-8b82-46c0-bbeb-62f8e77171d7"
   },
   "outputs": [
    {
     "name": "stdout",
     "output_type": "stream",
     "text": [
      "Train on 42000 samples, validate on 60000 samples\n",
      "Epoch 1/100\n",
      "42000/42000 [==============================] - 6s 143us/step - loss: 2.2662 - accuracy: 0.1961 - val_loss: 2.2661 - val_accuracy: 0.1969\n",
      "Epoch 2/100\n",
      "42000/42000 [==============================] - 6s 142us/step - loss: 2.2658 - accuracy: 0.1976 - val_loss: 2.2657 - val_accuracy: 0.1978\n",
      "Epoch 3/100\n",
      "42000/42000 [==============================] - 6s 143us/step - loss: 2.2654 - accuracy: 0.1985 - val_loss: 2.2653 - val_accuracy: 0.1982\n",
      "Epoch 4/100\n",
      "42000/42000 [==============================] - 6s 144us/step - loss: 2.2650 - accuracy: 0.1994 - val_loss: 2.2649 - val_accuracy: 0.1992\n",
      "Epoch 5/100\n",
      "42000/42000 [==============================] - 6s 152us/step - loss: 2.2646 - accuracy: 0.1996 - val_loss: 2.2645 - val_accuracy: 0.1999\n",
      "Epoch 6/100\n",
      "42000/42000 [==============================] - 6s 143us/step - loss: 2.2642 - accuracy: 0.2009 - val_loss: 2.2641 - val_accuracy: 0.2006\n",
      "Epoch 7/100\n",
      "42000/42000 [==============================] - 6s 143us/step - loss: 2.2638 - accuracy: 0.2009 - val_loss: 2.2637 - val_accuracy: 0.2012\n",
      "Epoch 8/100\n",
      "42000/42000 [==============================] - 6s 141us/step - loss: 2.2634 - accuracy: 0.2021 - val_loss: 2.2633 - val_accuracy: 0.2019\n",
      "Epoch 9/100\n",
      "42000/42000 [==============================] - 6s 141us/step - loss: 2.2630 - accuracy: 0.2033 - val_loss: 2.2629 - val_accuracy: 0.2030\n",
      "Epoch 10/100\n",
      "42000/42000 [==============================] - 6s 144us/step - loss: 2.2625 - accuracy: 0.2038 - val_loss: 2.2624 - val_accuracy: 0.2032\n",
      "Epoch 11/100\n",
      "42000/42000 [==============================] - 6s 145us/step - loss: 2.2621 - accuracy: 0.2037 - val_loss: 2.2620 - val_accuracy: 0.2038\n",
      "Epoch 12/100\n",
      "42000/42000 [==============================] - 6s 141us/step - loss: 2.2617 - accuracy: 0.2048 - val_loss: 2.2616 - val_accuracy: 0.2049\n",
      "Epoch 13/100\n",
      "42000/42000 [==============================] - 6s 142us/step - loss: 2.2613 - accuracy: 0.2056 - val_loss: 2.2612 - val_accuracy: 0.2060\n",
      "Epoch 14/100\n",
      "42000/42000 [==============================] - 6s 147us/step - loss: 2.2609 - accuracy: 0.2076 - val_loss: 2.2608 - val_accuracy: 0.2064\n",
      "Epoch 15/100\n",
      "42000/42000 [==============================] - 6s 143us/step - loss: 2.2604 - accuracy: 0.2073 - val_loss: 2.2603 - val_accuracy: 0.2075\n",
      "Epoch 16/100\n",
      "42000/42000 [==============================] - 6s 141us/step - loss: 2.2600 - accuracy: 0.2086 - val_loss: 2.2599 - val_accuracy: 0.2081\n",
      "Epoch 17/100\n",
      "42000/42000 [==============================] - 6s 142us/step - loss: 2.2596 - accuracy: 0.2083 - val_loss: 2.2595 - val_accuracy: 0.2095\n",
      "Epoch 18/100\n",
      "42000/42000 [==============================] - 6s 141us/step - loss: 2.2592 - accuracy: 0.2093 - val_loss: 2.2590 - val_accuracy: 0.2095\n",
      "Epoch 19/100\n",
      "42000/42000 [==============================] - 6s 142us/step - loss: 2.2587 - accuracy: 0.2097 - val_loss: 2.2586 - val_accuracy: 0.2107\n",
      "Epoch 20/100\n",
      "42000/42000 [==============================] - 6s 142us/step - loss: 2.2583 - accuracy: 0.2105 - val_loss: 2.2582 - val_accuracy: 0.2117\n",
      "Epoch 21/100\n",
      "42000/42000 [==============================] - 6s 142us/step - loss: 2.2579 - accuracy: 0.2122 - val_loss: 2.2577 - val_accuracy: 0.2120\n",
      "Epoch 22/100\n",
      "42000/42000 [==============================] - 6s 142us/step - loss: 2.2574 - accuracy: 0.2127 - val_loss: 2.2573 - val_accuracy: 0.2125\n",
      "Epoch 23/100\n",
      "42000/42000 [==============================] - 6s 143us/step - loss: 2.2570 - accuracy: 0.2132 - val_loss: 2.2568 - val_accuracy: 0.2142\n",
      "Epoch 24/100\n",
      "42000/42000 [==============================] - 7s 165us/step - loss: 2.2566 - accuracy: 0.2146 - val_loss: 2.2564 - val_accuracy: 0.2143\n",
      "Epoch 25/100\n",
      "42000/42000 [==============================] - 7s 178us/step - loss: 2.2561 - accuracy: 0.2146 - val_loss: 2.2559 - val_accuracy: 0.2154\n",
      "Epoch 26/100\n",
      "42000/42000 [==============================] - 6s 147us/step - loss: 2.2556 - accuracy: 0.2154 - val_loss: 2.2555 - val_accuracy: 0.2157\n",
      "Epoch 27/100\n",
      "42000/42000 [==============================] - 6s 142us/step - loss: 2.2552 - accuracy: 0.2167 - val_loss: 2.2550 - val_accuracy: 0.2161\n",
      "Epoch 28/100\n",
      "42000/42000 [==============================] - 6s 142us/step - loss: 2.2547 - accuracy: 0.2166 - val_loss: 2.2546 - val_accuracy: 0.2169\n",
      "Epoch 29/100\n",
      "42000/42000 [==============================] - 6s 141us/step - loss: 2.2543 - accuracy: 0.2173 - val_loss: 2.2541 - val_accuracy: 0.2171\n",
      "Epoch 30/100\n",
      "42000/42000 [==============================] - 6s 141us/step - loss: 2.2538 - accuracy: 0.2178 - val_loss: 2.2536 - val_accuracy: 0.2183\n",
      "Epoch 31/100\n",
      "42000/42000 [==============================] - 6s 141us/step - loss: 2.2533 - accuracy: 0.2194 - val_loss: 2.2531 - val_accuracy: 0.2189\n",
      "Epoch 32/100\n",
      "42000/42000 [==============================] - 6s 142us/step - loss: 2.2529 - accuracy: 0.2199 - val_loss: 2.2527 - val_accuracy: 0.2197\n",
      "Epoch 33/100\n",
      "42000/42000 [==============================] - 6s 142us/step - loss: 2.2524 - accuracy: 0.2215 - val_loss: 2.2522 - val_accuracy: 0.2198\n",
      "Epoch 34/100\n",
      "42000/42000 [==============================] - 6s 141us/step - loss: 2.2519 - accuracy: 0.2208 - val_loss: 2.2517 - val_accuracy: 0.2200\n",
      "Epoch 35/100\n",
      "42000/42000 [==============================] - 6s 141us/step - loss: 2.2514 - accuracy: 0.2221 - val_loss: 2.2512 - val_accuracy: 0.2215\n",
      "Epoch 36/100\n",
      "42000/42000 [==============================] - 6s 143us/step - loss: 2.2510 - accuracy: 0.2224 - val_loss: 2.2507 - val_accuracy: 0.2218\n",
      "Epoch 37/100\n",
      "42000/42000 [==============================] - 6s 141us/step - loss: 2.2505 - accuracy: 0.2231 - val_loss: 2.2503 - val_accuracy: 0.2224\n",
      "Epoch 38/100\n",
      "42000/42000 [==============================] - 6s 141us/step - loss: 2.2500 - accuracy: 0.2252 - val_loss: 2.2498 - val_accuracy: 0.2228\n",
      "Epoch 39/100\n",
      "42000/42000 [==============================] - 6s 140us/step - loss: 2.2495 - accuracy: 0.2234 - val_loss: 2.2493 - val_accuracy: 0.2236\n",
      "Epoch 40/100\n",
      "42000/42000 [==============================] - 6s 141us/step - loss: 2.2491 - accuracy: 0.2249 - val_loss: 2.2489 - val_accuracy: 0.2241\n",
      "Epoch 41/100\n",
      "42000/42000 [==============================] - 6s 147us/step - loss: 2.2486 - accuracy: 0.2250 - val_loss: 2.2484 - val_accuracy: 0.2258\n",
      "Epoch 42/100\n",
      "42000/42000 [==============================] - 6s 143us/step - loss: 2.2481 - accuracy: 0.2256 - val_loss: 2.2479 - val_accuracy: 0.2263\n",
      "Epoch 43/100\n",
      "42000/42000 [==============================] - 6s 141us/step - loss: 2.2476 - accuracy: 0.2273 - val_loss: 2.2474 - val_accuracy: 0.2264\n",
      "Epoch 44/100\n",
      "42000/42000 [==============================] - 6s 140us/step - loss: 2.2472 - accuracy: 0.2277 - val_loss: 2.2470 - val_accuracy: 0.2272\n",
      "Epoch 45/100\n",
      "42000/42000 [==============================] - 6s 141us/step - loss: 2.2467 - accuracy: 0.2283 - val_loss: 2.2465 - val_accuracy: 0.2276\n",
      "Epoch 46/100\n",
      "42000/42000 [==============================] - 6s 141us/step - loss: 2.2462 - accuracy: 0.2285 - val_loss: 2.2460 - val_accuracy: 0.2283\n",
      "Epoch 47/100\n",
      "42000/42000 [==============================] - 6s 142us/step - loss: 2.2457 - accuracy: 0.2293 - val_loss: 2.2455 - val_accuracy: 0.2286\n",
      "Epoch 48/100\n",
      "42000/42000 [==============================] - 6s 141us/step - loss: 2.2453 - accuracy: 0.2297 - val_loss: 2.2450 - val_accuracy: 0.2300\n",
      "Epoch 49/100\n",
      "42000/42000 [==============================] - 6s 145us/step - loss: 2.2448 - accuracy: 0.2312 - val_loss: 2.2446 - val_accuracy: 0.2307\n",
      "Epoch 50/100\n",
      "42000/42000 [==============================] - 6s 145us/step - loss: 2.2443 - accuracy: 0.2306 - val_loss: 2.2441 - val_accuracy: 0.2313\n",
      "Epoch 51/100\n",
      "42000/42000 [==============================] - 6s 144us/step - loss: 2.2438 - accuracy: 0.2319 - val_loss: 2.2436 - val_accuracy: 0.2316\n",
      "Epoch 52/100\n",
      "42000/42000 [==============================] - 6s 150us/step - loss: 2.2434 - accuracy: 0.2322 - val_loss: 2.2431 - val_accuracy: 0.2319\n",
      "Epoch 53/100\n",
      "42000/42000 [==============================] - 6s 152us/step - loss: 2.2429 - accuracy: 0.2326 - val_loss: 2.2426 - val_accuracy: 0.2327\n",
      "Epoch 54/100\n",
      "42000/42000 [==============================] - 6s 148us/step - loss: 2.2424 - accuracy: 0.2331 - val_loss: 2.2422 - val_accuracy: 0.2340\n",
      "Epoch 55/100\n",
      "42000/42000 [==============================] - 6s 142us/step - loss: 2.2419 - accuracy: 0.2338 - val_loss: 2.2417 - val_accuracy: 0.2342\n",
      "Epoch 56/100\n",
      "42000/42000 [==============================] - 6s 141us/step - loss: 2.2414 - accuracy: 0.2347 - val_loss: 2.2412 - val_accuracy: 0.2345\n",
      "Epoch 57/100\n",
      "42000/42000 [==============================] - 6s 142us/step - loss: 2.2409 - accuracy: 0.2356 - val_loss: 2.2407 - val_accuracy: 0.2349\n",
      "Epoch 58/100\n",
      "42000/42000 [==============================] - 6s 141us/step - loss: 2.2404 - accuracy: 0.2365 - val_loss: 2.2402 - val_accuracy: 0.2356\n",
      "Epoch 59/100\n",
      "42000/42000 [==============================] - 6s 142us/step - loss: 2.2400 - accuracy: 0.2370 - val_loss: 2.2397 - val_accuracy: 0.2366\n",
      "Epoch 60/100\n",
      "42000/42000 [==============================] - 6s 139us/step - loss: 2.2395 - accuracy: 0.2376 - val_loss: 2.2392 - val_accuracy: 0.2371\n",
      "Epoch 61/100\n",
      "42000/42000 [==============================] - 6s 141us/step - loss: 2.2390 - accuracy: 0.2379 - val_loss: 2.2387 - val_accuracy: 0.2383\n",
      "Epoch 62/100\n",
      "42000/42000 [==============================] - 6s 148us/step - loss: 2.2385 - accuracy: 0.2398 - val_loss: 2.2382 - val_accuracy: 0.2382\n",
      "Epoch 63/100\n",
      "42000/42000 [==============================] - 6s 144us/step - loss: 2.2380 - accuracy: 0.2398 - val_loss: 2.2377 - val_accuracy: 0.2391\n",
      "Epoch 64/100\n",
      "42000/42000 [==============================] - 6s 142us/step - loss: 2.2375 - accuracy: 0.2399 - val_loss: 2.2372 - val_accuracy: 0.2398\n",
      "Epoch 65/100\n",
      "42000/42000 [==============================] - 6s 141us/step - loss: 2.2370 - accuracy: 0.2416 - val_loss: 2.2367 - val_accuracy: 0.2407\n",
      "Epoch 66/100\n",
      "42000/42000 [==============================] - 6s 142us/step - loss: 2.2364 - accuracy: 0.2417 - val_loss: 2.2362 - val_accuracy: 0.2413\n",
      "Epoch 67/100\n",
      "42000/42000 [==============================] - 6s 141us/step - loss: 2.2359 - accuracy: 0.2416 - val_loss: 2.2357 - val_accuracy: 0.2426\n",
      "Epoch 68/100\n",
      "42000/42000 [==============================] - 6s 142us/step - loss: 2.2354 - accuracy: 0.2439 - val_loss: 2.2352 - val_accuracy: 0.2422\n",
      "Epoch 69/100\n",
      "42000/42000 [==============================] - 6s 141us/step - loss: 2.2349 - accuracy: 0.2434 - val_loss: 2.2347 - val_accuracy: 0.2435\n",
      "Epoch 70/100\n",
      "42000/42000 [==============================] - 6s 142us/step - loss: 2.2344 - accuracy: 0.2445 - val_loss: 2.2341 - val_accuracy: 0.2441\n",
      "Epoch 71/100\n",
      "42000/42000 [==============================] - 6s 142us/step - loss: 2.2339 - accuracy: 0.2452 - val_loss: 2.2336 - val_accuracy: 0.2451\n",
      "Epoch 72/100\n",
      "42000/42000 [==============================] - 6s 142us/step - loss: 2.2334 - accuracy: 0.2457 - val_loss: 2.2331 - val_accuracy: 0.2446\n",
      "Epoch 73/100\n",
      "42000/42000 [==============================] - 6s 141us/step - loss: 2.2328 - accuracy: 0.2462 - val_loss: 2.2326 - val_accuracy: 0.2456\n",
      "Epoch 74/100\n",
      "42000/42000 [==============================] - 6s 140us/step - loss: 2.2323 - accuracy: 0.2469 - val_loss: 2.2321 - val_accuracy: 0.2461\n",
      "Epoch 75/100\n",
      "42000/42000 [==============================] - 6s 141us/step - loss: 2.2318 - accuracy: 0.2473 - val_loss: 2.2315 - val_accuracy: 0.2472\n",
      "Epoch 76/100\n",
      "42000/42000 [==============================] - 6s 140us/step - loss: 2.2313 - accuracy: 0.2475 - val_loss: 2.2310 - val_accuracy: 0.2470\n",
      "Epoch 77/100\n",
      "42000/42000 [==============================] - 6s 142us/step - loss: 2.2307 - accuracy: 0.2483 - val_loss: 2.2305 - val_accuracy: 0.2482\n",
      "Epoch 78/100\n",
      "42000/42000 [==============================] - 6s 146us/step - loss: 2.2302 - accuracy: 0.2486 - val_loss: 2.2300 - val_accuracy: 0.2486\n",
      "Epoch 79/100\n",
      "42000/42000 [==============================] - 6s 140us/step - loss: 2.2297 - accuracy: 0.2502 - val_loss: 2.2294 - val_accuracy: 0.2497\n",
      "Epoch 80/100\n",
      "42000/42000 [==============================] - 6s 140us/step - loss: 2.2291 - accuracy: 0.2507 - val_loss: 2.2289 - val_accuracy: 0.2504\n",
      "Epoch 81/100\n",
      "42000/42000 [==============================] - 6s 139us/step - loss: 2.2286 - accuracy: 0.2514 - val_loss: 2.2283 - val_accuracy: 0.2508\n",
      "Epoch 82/100\n",
      "42000/42000 [==============================] - 6s 141us/step - loss: 2.2280 - accuracy: 0.2514 - val_loss: 2.2278 - val_accuracy: 0.2512\n",
      "Epoch 83/100\n",
      "42000/42000 [==============================] - 6s 142us/step - loss: 2.2275 - accuracy: 0.2523 - val_loss: 2.2272 - val_accuracy: 0.2517\n",
      "Epoch 84/100\n",
      "42000/42000 [==============================] - 6s 143us/step - loss: 2.2270 - accuracy: 0.2525 - val_loss: 2.2267 - val_accuracy: 0.2520\n",
      "Epoch 85/100\n",
      "42000/42000 [==============================] - 6s 141us/step - loss: 2.2264 - accuracy: 0.2534 - val_loss: 2.2261 - val_accuracy: 0.2532\n",
      "Epoch 86/100\n",
      "42000/42000 [==============================] - 6s 142us/step - loss: 2.2258 - accuracy: 0.2526 - val_loss: 2.2256 - val_accuracy: 0.2535\n",
      "Epoch 87/100\n",
      "42000/42000 [==============================] - 6s 141us/step - loss: 2.2253 - accuracy: 0.2540 - val_loss: 2.2250 - val_accuracy: 0.2540\n",
      "Epoch 88/100\n",
      "42000/42000 [==============================] - 6s 143us/step - loss: 2.2247 - accuracy: 0.2543 - val_loss: 2.2245 - val_accuracy: 0.2545\n",
      "Epoch 89/100\n",
      "42000/42000 [==============================] - 6s 144us/step - loss: 2.2242 - accuracy: 0.2561 - val_loss: 2.2239 - val_accuracy: 0.2549\n",
      "Epoch 90/100\n",
      "42000/42000 [==============================] - 6s 142us/step - loss: 2.2236 - accuracy: 0.2557 - val_loss: 2.2233 - val_accuracy: 0.2558\n",
      "Epoch 91/100\n",
      "42000/42000 [==============================] - 6s 142us/step - loss: 2.2230 - accuracy: 0.2564 - val_loss: 2.2228 - val_accuracy: 0.2566\n",
      "Epoch 92/100\n",
      "42000/42000 [==============================] - 6s 145us/step - loss: 2.2225 - accuracy: 0.2573 - val_loss: 2.2222 - val_accuracy: 0.2571\n",
      "Epoch 93/100\n",
      "42000/42000 [==============================] - 6s 144us/step - loss: 2.2219 - accuracy: 0.2574 - val_loss: 2.2216 - val_accuracy: 0.2575\n",
      "Epoch 94/100\n",
      "42000/42000 [==============================] - 6s 141us/step - loss: 2.2213 - accuracy: 0.2581 - val_loss: 2.2210 - val_accuracy: 0.2587\n",
      "Epoch 95/100\n",
      "42000/42000 [==============================] - 6s 141us/step - loss: 2.2207 - accuracy: 0.2587 - val_loss: 2.2205 - val_accuracy: 0.2594\n",
      "Epoch 96/100\n",
      "42000/42000 [==============================] - 6s 139us/step - loss: 2.2201 - accuracy: 0.2593 - val_loss: 2.2199 - val_accuracy: 0.2587\n",
      "Epoch 97/100\n",
      "42000/42000 [==============================] - 6s 139us/step - loss: 2.2196 - accuracy: 0.2598 - val_loss: 2.2193 - val_accuracy: 0.2592\n",
      "Epoch 98/100\n",
      "42000/42000 [==============================] - 6s 141us/step - loss: 2.2190 - accuracy: 0.2592 - val_loss: 2.2187 - val_accuracy: 0.2606\n",
      "Epoch 99/100\n",
      "42000/42000 [==============================] - 6s 140us/step - loss: 2.2184 - accuracy: 0.2615 - val_loss: 2.2181 - val_accuracy: 0.2610\n",
      "Epoch 100/100\n",
      "42000/42000 [==============================] - 6s 139us/step - loss: 2.2178 - accuracy: 0.2608 - val_loss: 2.2175 - val_accuracy: 0.2619\n"
     ]
    }
   ],
   "source": [
    "sgd = optimizers.sgd(lr = 0.0001) #let us use sgd with lr\n",
    "km.compile(optimizer = sgd, loss = 'categorical_crossentropy', metrics = ['accuracy']) #compiling the ANN classifier\n",
    "history = km.fit(X_train, y_train, validation_data=(X_val,y_val),batch_size = 200, epochs = 100, verbose = 1) #fit the model"
   ]
  },
  {
   "cell_type": "markdown",
   "metadata": {
    "colab_type": "text",
    "id": "wieM6HHBpwxq"
   },
   "source": [
    "Inference: The validation accuracy is still low, but we see the accuracy improve with every Epoch."
   ]
  },
  {
   "cell_type": "markdown",
   "metadata": {
    "colab_type": "text",
    "id": "t890DWsRfwYr"
   },
   "source": [
    "**Implement batch normalization for training the neural network:**"
   ]
  },
  {
   "cell_type": "code",
   "execution_count": 95,
   "metadata": {
    "colab": {},
    "colab_type": "code",
    "id": "W4DQbVbzcroK"
   },
   "outputs": [],
   "source": [
    "def nn_with_BN():\n",
    "    km2 = Sequential()  #initialize model\n",
    "    km2.add(BatchNormalization(input_shape = (1024,)))  #Batch Normalization Layer\n",
    "    \n",
    "    km2.add(Dense(256, activation='relu')) \n",
    "    km2.add(Dense(64, activation='relu'))\n",
    "    km2.add(Dense(64, activation='relu'))\n",
    "    km2.add(Dense(32, activation='relu'))\n",
    "    km2.add(Dense(num_classes, activation='softmax'))\n",
    "    \n",
    "    # Compile model\n",
    "    sgd = optimizers.Adam(lr=1e-3)\n",
    "    km2.compile(loss=losses.categorical_crossentropy, optimizer=sgd, metrics=['accuracy']) #Loss function = categorical cross entropy\n",
    "    return km2\n",
    "\n",
    "# build the model\n",
    "km2 = nn_with_BN()"
   ]
  },
  {
   "cell_type": "code",
   "execution_count": 102,
   "metadata": {
    "colab": {
     "base_uri": "https://localhost:8080/",
     "height": 1000
    },
    "colab_type": "code",
    "id": "fLxSmR9IctLk",
    "outputId": "4c1c1719-452b-4138-8f12-ae948c2404df"
   },
   "outputs": [
    {
     "name": "stdout",
     "output_type": "stream",
     "text": [
      "Train on 42000 samples, validate on 18000 samples\n",
      "Epoch 1/30\n",
      " - 3s - loss: 2.3091 - accuracy: 0.1022 - val_loss: 2.3027 - val_accuracy: 0.0954\n",
      "Epoch 2/30\n",
      " - 3s - loss: 2.3026 - accuracy: 0.1006 - val_loss: 2.3028 - val_accuracy: 0.0954\n",
      "Epoch 3/30\n",
      " - 3s - loss: 2.3025 - accuracy: 0.1018 - val_loss: 2.3016 - val_accuracy: 0.0984\n",
      "Epoch 4/30\n",
      " - 3s - loss: 2.2992 - accuracy: 0.1061 - val_loss: 2.2882 - val_accuracy: 0.1054\n",
      "Epoch 5/30\n",
      " - 3s - loss: 2.1315 - accuracy: 0.1925 - val_loss: 1.8080 - val_accuracy: 0.3454\n",
      "Epoch 6/30\n",
      " - 3s - loss: 1.6927 - accuracy: 0.3849 - val_loss: 1.6047 - val_accuracy: 0.4188\n",
      "Epoch 7/30\n",
      " - 3s - loss: 1.5497 - accuracy: 0.4350 - val_loss: 1.3936 - val_accuracy: 0.4960\n",
      "Epoch 8/30\n",
      " - 3s - loss: 1.1755 - accuracy: 0.5999 - val_loss: 0.9602 - val_accuracy: 0.6924\n",
      "Epoch 9/30\n",
      " - 3s - loss: 0.8749 - accuracy: 0.7199 - val_loss: 0.8402 - val_accuracy: 0.7406\n",
      "Epoch 10/30\n",
      " - 3s - loss: 0.7614 - accuracy: 0.7625 - val_loss: 0.7664 - val_accuracy: 0.7678\n",
      "Epoch 11/30\n",
      " - 3s - loss: 0.7053 - accuracy: 0.7801 - val_loss: 0.7438 - val_accuracy: 0.7752\n",
      "Epoch 12/30\n",
      " - 3s - loss: 0.6520 - accuracy: 0.7955 - val_loss: 0.7016 - val_accuracy: 0.7918\n",
      "Epoch 13/30\n",
      " - 3s - loss: 0.6105 - accuracy: 0.8098 - val_loss: 0.7140 - val_accuracy: 0.7877\n",
      "Epoch 14/30\n",
      " - 3s - loss: 0.5782 - accuracy: 0.8193 - val_loss: 0.6568 - val_accuracy: 0.8036\n",
      "Epoch 15/30\n",
      " - 3s - loss: 0.5533 - accuracy: 0.8249 - val_loss: 0.6492 - val_accuracy: 0.8079\n",
      "Epoch 16/30\n",
      " - 3s - loss: 0.5310 - accuracy: 0.8351 - val_loss: 0.6583 - val_accuracy: 0.8082\n",
      "Epoch 17/30\n",
      " - 3s - loss: 0.5036 - accuracy: 0.8434 - val_loss: 0.6389 - val_accuracy: 0.8117\n",
      "Epoch 18/30\n",
      " - 3s - loss: 0.4833 - accuracy: 0.8491 - val_loss: 0.6470 - val_accuracy: 0.8117\n",
      "Epoch 19/30\n",
      " - 3s - loss: 0.4719 - accuracy: 0.8520 - val_loss: 0.6207 - val_accuracy: 0.8169\n",
      "Epoch 20/30\n",
      " - 3s - loss: 0.4507 - accuracy: 0.8590 - val_loss: 0.6225 - val_accuracy: 0.8206\n",
      "Epoch 21/30\n",
      " - 3s - loss: 0.4378 - accuracy: 0.8628 - val_loss: 0.6323 - val_accuracy: 0.8218\n",
      "Epoch 22/30\n",
      " - 3s - loss: 0.4224 - accuracy: 0.8673 - val_loss: 0.6184 - val_accuracy: 0.8214\n",
      "Epoch 23/30\n",
      " - 3s - loss: 0.4140 - accuracy: 0.8688 - val_loss: 0.6283 - val_accuracy: 0.8220\n",
      "Epoch 24/30\n",
      " - 3s - loss: 0.3973 - accuracy: 0.8748 - val_loss: 0.6203 - val_accuracy: 0.8265\n",
      "Epoch 25/30\n",
      " - 3s - loss: 0.3870 - accuracy: 0.8775 - val_loss: 0.6116 - val_accuracy: 0.8322\n",
      "Epoch 26/30\n",
      " - 3s - loss: 0.3737 - accuracy: 0.8833 - val_loss: 0.6207 - val_accuracy: 0.8284\n",
      "Epoch 27/30\n",
      " - 3s - loss: 0.3689 - accuracy: 0.8836 - val_loss: 0.6218 - val_accuracy: 0.8288\n",
      "Epoch 28/30\n",
      " - 3s - loss: 0.3593 - accuracy: 0.8871 - val_loss: 0.6170 - val_accuracy: 0.8328\n",
      "Epoch 29/30\n",
      " - 3s - loss: 0.3530 - accuracy: 0.8880 - val_loss: 0.6141 - val_accuracy: 0.8344\n",
      "Epoch 30/30\n",
      " - 3s - loss: 0.3424 - accuracy: 0.8915 - val_loss: 0.6413 - val_accuracy: 0.8331\n",
      "Error: 16.69%\n",
      "Model: \"sequential_6\"\n",
      "_________________________________________________________________\n",
      "Layer (type)                 Output Shape              Param #   \n",
      "=================================================================\n",
      "batch_normalization_9 (Batch (None, 1024)              4096      \n",
      "_________________________________________________________________\n",
      "dense_29 (Dense)             (None, 256)               262400    \n",
      "_________________________________________________________________\n",
      "dense_30 (Dense)             (None, 64)                16448     \n",
      "_________________________________________________________________\n",
      "dense_31 (Dense)             (None, 64)                4160      \n",
      "_________________________________________________________________\n",
      "dense_32 (Dense)             (None, 32)                2080      \n",
      "_________________________________________________________________\n",
      "dense_33 (Dense)             (None, 10)                330       \n",
      "=================================================================\n",
      "Total params: 289,514\n",
      "Trainable params: 287,466\n",
      "Non-trainable params: 2,048\n",
      "_________________________________________________________________\n"
     ]
    }
   ],
   "source": [
    "km2.fit(X_train, y_train, validation_data=(X_test, y_test), epochs=30, batch_size=200, verbose=2) #Fit the model\n",
    "scores = km2.evaluate(X_test, y_test, verbose=0)\n",
    "print(\"Error: %.2f%%\" % (100-scores[1]*100)) #Final evaluation of the model\n",
    "\n",
    "km2.summary()"
   ]
  },
  {
   "cell_type": "markdown",
   "metadata": {
    "colab_type": "text",
    "id": "3jb7eAeVqVVL"
   },
   "source": [
    "Inference: Using Neural Network with Batch Normalization we got an accuracy of 83.3% and error rate of 16.69%. "
   ]
  }
 ],
 "metadata": {
  "colab": {
   "collapsed_sections": [],
   "name": "Deep Learning Project",
   "provenance": []
  },
  "kernelspec": {
   "display_name": "Python 3",
   "language": "python",
   "name": "python3"
  },
  "language_info": {
   "codemirror_mode": {
    "name": "ipython",
    "version": 3
   },
   "file_extension": ".py",
   "mimetype": "text/x-python",
   "name": "python",
   "nbconvert_exporter": "python",
   "pygments_lexer": "ipython3",
   "version": "3.7.1"
  }
 },
 "nbformat": 4,
 "nbformat_minor": 1
}
